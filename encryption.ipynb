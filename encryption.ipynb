{
  "nbformat": 4,
  "nbformat_minor": 0,
  "metadata": {
    "colab": {
      "provenance": []
    },
    "kernelspec": {
      "name": "python3",
      "display_name": "Python 3"
    },
    "language_info": {
      "name": "python"
    }
  },
  "cells": [
    {
      "cell_type": "code",
      "execution_count": null,
      "metadata": {
        "id": "LVU358llYM5h"
      },
      "outputs": [],
      "source": [
        "#rabin encyption\n",
        "from sympy import  gcdex\n",
        "# n: rabin public key\n",
        "# p,q: rabin secret key\n",
        "# N = encoded sequence\n",
        "def RabinEncoder(Message, n):\n",
        "  M=\"\"\n",
        "  for char in Message:\n",
        "    if(ord(char)<100):\n",
        "      M = M + \"0\" + str(ord(char))\n",
        "    else:\n",
        "      M= M + str(ord(char))\n",
        "  M = int(M)\n",
        "  N = pow(M,2,n)\n",
        "  return N\n",
        "\n",
        "def RabinDecoder(N, n, p, q):\n",
        "  p_,q_,_=gcdex(p,q)\n",
        "  a1 = pow(N,(p+1)//4,p)\n",
        "  a2= p - a1\n",
        "  b1 = pow(N,(q+1)//4,q)\n",
        "  b2= q - b1\n",
        "  listM=[(a1*q*q_+b1*p*p_)%n,(a1*q*q_+b2*p*p_)%n,(a2*q*q_+b1*p*p_)%n,(a2*q*q_+b2*p*p_)%n]\n",
        "  for M in listM:\n",
        "    M = str(M)\n",
        "    if(len(M)%3==0):\n",
        "      M = M\n",
        "    else:\n",
        "      M = \"0\"+ M\n",
        "    triplets = [M[i:i+3] for i in range(0, len(M), 3)]\n",
        "    Message =\"\"\n",
        "    for triplet in triplets:\n",
        "      if(int(triplet)<100):\n",
        "        Message = Message + chr(int(triplet[1:]))\n",
        "      else:\n",
        "        Message = Message + chr(int(triplet[0:]))\n",
        "    print(Message)"
      ]
    },
    {
      "cell_type": "code",
      "source": [
        "#RSA encyption\n",
        "#e,n RSA public key\n",
        "#phi RSA secret key\n",
        "#N = encoded sequence\n",
        "def RSAEncoder(Message, e, n):\n",
        "  M=\"\"\n",
        "  for char in Message:\n",
        "    if(ord(char)<100):\n",
        "      M = M + \"0\" + str(ord(char))\n",
        "    else:\n",
        "      M= M + str(ord(char))\n",
        "  M = int(M)\n",
        "  N = pow(M,e,n)\n",
        "  return N #209213078144440\n",
        "\n",
        "def RSADecoder(N, phi, n, e):\n",
        "  d = pow(e,-1,phi)\n",
        "  M = pow(N,d,n)\n",
        "  M = str(M)\n",
        "  if(len(M)%3==0):\n",
        "    M = M\n",
        "  else:\n",
        "    M = \"0\"+ M\n",
        "  triplets = [M[i:i+3] for i in range(0, len(M), 3)]\n",
        "  Message =\"\"\n",
        "  for triplet in triplets:\n",
        "    if(int(triplet)<100):\n",
        "      Message = Message + chr(int(triplet[1:]))\n",
        "    else:\n",
        "      Message = Message + chr(int(triplet[0:]))\n",
        "  return Message"
      ],
      "metadata": {
        "id": "YmTz0af6Zrii"
      },
      "execution_count": null,
      "outputs": []
    }
  ]
}